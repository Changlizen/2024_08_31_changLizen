{
 "cells": [
  {
   "cell_type": "code",
   "execution_count": 1,
   "metadata": {},
   "outputs": [
    {
     "name": "stdout",
     "output_type": "stream",
     "text": [
      "可以考駕照\n",
      "應用程式結束\n"
     ]
    }
   ],
   "source": [
    "#if\n",
    "age = 19\n",
    "if age < 18:\n",
    "    print(\"不可以考駕照\")\n",
    "else:\n",
    "    print(\"可以考駕照\")\n",
    "print(\"應用程式結束\")"
   ]
  },
  {
   "cell_type": "code",
   "execution_count": 2,
   "metadata": {},
   "outputs": [
    {
     "ename": "ValueError",
     "evalue": "invalid literal for int() with base 10: ''",
     "output_type": "error",
     "traceback": [
      "\u001b[1;31m---------------------------------------------------------------------------\u001b[0m",
      "\u001b[1;31mValueError\u001b[0m                                Traceback (most recent call last)",
      "Cell \u001b[1;32mIn[2], line 5\u001b[0m\n\u001b[0;32m      1\u001b[0m \u001b[38;5;66;03m#學生總分為300\u001b[39;00m\n\u001b[0;32m      2\u001b[0m \u001b[38;5;66;03m#有些學生可以加分5%\u001b[39;00m\n\u001b[0;32m      3\u001b[0m \u001b[38;5;66;03m#如果加分超過300，就以300分為準\u001b[39;00m\n\u001b[1;32m----> 5\u001b[0m score \u001b[38;5;241m=\u001b[39m \u001b[38;5;28;43mint\u001b[39;49m\u001b[43m(\u001b[49m\u001b[38;5;28;43minput\u001b[39;49m\u001b[43m(\u001b[49m\u001b[38;5;124;43m\"\u001b[39;49m\u001b[38;5;124;43m請輸入學生分數(最高300分):\u001b[39;49m\u001b[38;5;124;43m\"\u001b[39;49m\u001b[43m)\u001b[49m\u001b[43m)\u001b[49m\n\u001b[0;32m      6\u001b[0m is_add \u001b[38;5;241m=\u001b[39m \u001b[38;5;28minput\u001b[39m(\u001b[38;5;124m\"\u001b[39m\u001b[38;5;124m學生是否符合加分條件?(y,n)\u001b[39m\u001b[38;5;124m\"\u001b[39m)\n\u001b[0;32m      8\u001b[0m \u001b[38;5;28;01mif\u001b[39;00m is_add \u001b[38;5;241m==\u001b[39m \u001b[38;5;124m'\u001b[39m\u001b[38;5;124my\u001b[39m\u001b[38;5;124m'\u001b[39m:\n",
      "\u001b[1;31mValueError\u001b[0m: invalid literal for int() with base 10: ''"
     ]
    }
   ],
   "source": [
    "#學生總分為300\n",
    "#有些學生可以加分5%\n",
    "#如果加分超過300，就以300分為準\n",
    "\n",
    "score = int(input(\"請輸入學生分數(最高300分):\"))\n",
    "is_add = input(\"學生是否符合加分條件?(y,n)\")\n",
    "\n",
    "if is_add == 'y':\n",
    "    score *= 1.05\n",
    "    if score > 300:\n",
    "        score = 300\n",
    "\n",
    "#print('學生分數是' + str(score))\n",
    "print(f'學生分數是{score}')"
   ]
  },
  {
   "cell_type": "code",
   "execution_count": 20,
   "metadata": {},
   "outputs": [
    {
     "name": "stdout",
     "output_type": "stream",
     "text": [
      "輸入格式有錯\n",
      "應用程式結束\n"
     ]
    }
   ],
   "source": [
    "#學生總分為300\n",
    "#有些學生可以加分5%\n",
    "#如果加分超過300，就以300分為準\n",
    "\n",
    "try:\n",
    "    score = int(input(\"請輸入學生分數(最高300分):\"))\n",
    "    #raise NameError\n",
    "except ValueError:\n",
    "    print(\"輸入格式有錯\")\n",
    "except Exception:\n",
    "    print(\"不知名的錯誤\")\n",
    "else:\n",
    "    is_add = input(\"學生是否符合加分條件?(y,n)\")\n",
    "\n",
    "    if is_add == 'y':\n",
    "        score *= 1.05\n",
    "        if score > 300:\n",
    "            score = 300\n",
    "\n",
    "    #print('學生分數是' + str(score))\n",
    "    print(f'學生分數是{score}')\n",
    "\n",
    "print(\"應用程式結束\")"
   ]
  },
  {
   "cell_type": "code",
   "execution_count": 28,
   "metadata": {},
   "outputs": [
    {
     "name": "stdout",
     "output_type": "stream",
     "text": [
      "學生分數是273.0\n",
      "應用程式結束\n"
     ]
    }
   ],
   "source": [
    "#學生總分為300\n",
    "#有些學生可以加分5%\n",
    "#如果加分超過300，就以300分為準\n",
    "#手動raise Exception\n",
    "\n",
    "try:\n",
    "    score = int(input(\"請輸入學生分數(最高300分):\"))\n",
    "    if score > 300:\n",
    "        raise Exception(\"輸入分數不可以超過300分\")\n",
    "    is_add = input(\"學生是否符合加分條件?(y,n)\")\n",
    "\n",
    "    if is_add == 'y':\n",
    "        score *= 1.05\n",
    "        if score > 300:\n",
    "            score = 300\n",
    "\n",
    "    #print('學生分數是' + str(score))\n",
    "    print(f'學生分數是{score}')\n",
    "except ValueError:\n",
    "    print(\"輸入格式有錯\")\n",
    "except Exception as e:\n",
    "    print(f\"錯誤訊息:{e}\")\n",
    "\n",
    "print(\"應用程式結束\")"
   ]
  },
  {
   "cell_type": "code",
   "execution_count": 33,
   "metadata": {},
   "outputs": [
    {
     "name": "stdout",
     "output_type": "stream",
     "text": [
      "90以上區段\n"
     ]
    }
   ],
   "source": [
    "value = 98\n",
    "if value >= 90:\n",
    "    print(\"90以上區段\")\n",
    "else:\n",
    "    if value >= 80:\n",
    "        print(\">=80,<90\")\n",
    "    else:\n",
    "        print(\"<80\")"
   ]
  },
  {
   "cell_type": "code",
   "execution_count": 4,
   "metadata": {},
   "outputs": [
    {
     "name": "stdout",
     "output_type": "stream",
     "text": [
      "90以上區段\n"
     ]
    }
   ],
   "source": [
    "value = 98\n",
    "if value >= 90:\n",
    "    print(\"90以上區段\")\n",
    "elif value >= 80:\n",
    "    print(\">=80,<90\")\n",
    "else:\n",
    "    print(\"<80\")"
   ]
  },
  {
   "cell_type": "code",
   "execution_count": 2,
   "metadata": {},
   "outputs": [
    {
     "name": "stdout",
     "output_type": "stream",
     "text": [
      "<70,>=60\n"
     ]
    }
   ],
   "source": [
    "#多項選擇\n",
    "value = 65\n",
    "if value >= 90:\n",
    "    print(\"90以上區段\")\n",
    "elif value >= 80:\n",
    "    print(\">=80,<90\")\n",
    "elif value >= 70:\n",
    "    print(\"<80,>=70\")\n",
    "elif value >= 60:\n",
    "    print(\"<70,>=60\")\n",
    "else:\n",
    "    print(\"<60\")"
   ]
  },
  {
   "cell_type": "code",
   "execution_count": 10,
   "metadata": {},
   "outputs": [
    {
     "name": "stdout",
     "output_type": "stream",
     "text": [
      "您的 BMI 值為: 200.00\n",
      "您的體重屬於重度肥胖，請持續維持運動\n",
      "應用程式結束\n"
     ]
    }
   ],
   "source": [
    "#https://depart.femh.org.tw/dietary/3OPD/BMI.htm\n",
    "try:\n",
    "        weight_kg = int(input(\"請輸入體重（公斤）：\"))\n",
    "        height_cm = int(input(\"請輸入身高（公分）：\"))\n",
    "        \n",
    "        # 將身高從公分轉換為米\n",
    "        height_m = height_cm / 100\n",
    "        \n",
    "        # 計算 BMI\n",
    "        bmi = weight_kg/(height_m*height_m)\n",
    "        \n",
    "        print(f\"您的 BMI 值為: {bmi:.2f}\")\n",
    "\n",
    "        # BMI 分類\n",
    "        if bmi < 18.5:\n",
    "            print(\"您的體重過輕，應適時補充所需能量\")\n",
    "        elif 18.5 <= bmi < 24:\n",
    "            print(\"您的正常體重，請持續保持\")\n",
    "        elif 24 <= bmi < 27:\n",
    "            print(\"您的體重過重，有空請多維持運動\")\n",
    "        elif 27 <= bmi < 30:\n",
    "            print(\"您的體重屬於輕度肥胖，請多維持運動\")\n",
    "        elif 30 <= bmi < 35:\n",
    "            print(\"您的體重屬於中度肥胖，請增加運動量\")\n",
    "        elif bmi > 35:\n",
    "            print(\"您的體重屬於重度肥胖，請持續維持運動\")         \n",
    "    \n",
    "except ValueError as e:\n",
    "        print(f\"輸入錯誤: {e}\")\n",
    "\n",
    "print(\"應用程式結束\")"
   ]
  }
 ],
 "metadata": {
  "kernelspec": {
   "display_name": "venv1",
   "language": "python",
   "name": "python3"
  },
  "language_info": {
   "codemirror_mode": {
    "name": "ipython",
    "version": 3
   },
   "file_extension": ".py",
   "mimetype": "text/x-python",
   "name": "python",
   "nbconvert_exporter": "python",
   "pygments_lexer": "ipython3",
   "version": "3.11.9"
  }
 },
 "nbformat": 4,
 "nbformat_minor": 2
}
