{
 "cells": [
  {
   "cell_type": "code",
   "execution_count": 1,
   "metadata": {},
   "outputs": [
    {
     "name": "stdout",
     "output_type": "stream",
     "text": [
      "write 8 byte data: 78, 78, 78, 78, 78, 78, 78, 78\n",
      "read 8 byte data:\n",
      "b''\n"
     ]
    }
   ],
   "source": [
    "import serial\n",
    "import time\n",
    "\n",
    "ser = serial.Serial()\n",
    "ser.port = \"COM5\"  # 根據你的COM port進行調整\n",
    "ser.baudrate = 9600\n",
    "ser.bytesize = serial.EIGHTBITS\n",
    "ser.parity = serial.PARITY_NONE\n",
    "ser.stopbits = serial.STOPBITS_ONE\n",
    "ser.timeout = 0.5\n",
    "ser.writeTimeout = 0.5\n",
    "ser.xonxoff = False\n",
    "ser.rtscts = False\n",
    "ser.dsrdtr = False\n",
    "\n",
    "try:\n",
    "    ser.open()\n",
    "except Exception as ex:\n",
    "    print(\"open serial port error \" + str(ex))\n",
    "    exit()\n",
    "\n",
    "if ser.isOpen():\n",
    "    try:\n",
    "        ser.flushInput()  # 清空輸入緩衝區\n",
    "        ser.flushOutput()  # 清空輸出緩衝區\n",
    "        # 寫入8個byte數據\n",
    "        ser.write([78, 78, 78, 78, 78, 78, 78, 78])\n",
    "        print(\"write 8 byte data: 78, 78, 78, 78, 78, 78, 78, 78\")\n",
    "        time.sleep(0.5)  # 等待0.5秒\n",
    "        # 讀取8個byte數據\n",
    "        response = ser.read(8)\n",
    "        print(\"read 8 byte data:\")\n",
    "        print(response)\n",
    "        ser.close()\n",
    "    except Exception as e1:\n",
    "        print(\"communicating error \" + str(e1))\n",
    "else:\n",
    "    print(\"open serial port error\")"
   ]
  }
 ],
 "metadata": {
  "kernelspec": {
   "display_name": "VENV1",
   "language": "python",
   "name": "python3"
  },
  "language_info": {
   "codemirror_mode": {
    "name": "ipython",
    "version": 3
   },
   "file_extension": ".py",
   "mimetype": "text/x-python",
   "name": "python",
   "nbconvert_exporter": "python",
   "pygments_lexer": "ipython3",
   "version": "3.11.9"
  }
 },
 "nbformat": 4,
 "nbformat_minor": 2
}
