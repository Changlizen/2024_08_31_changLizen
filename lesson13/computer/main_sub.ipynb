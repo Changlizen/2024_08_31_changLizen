{
 "cells": [
  {
   "cell_type": "code",
   "execution_count": 2,
   "metadata": {},
   "outputs": [
    {
     "name": "stdout",
     "output_type": "stream",
     "text": [
      "有這個目錄\n"
     ]
    }
   ],
   "source": [
    "import os\n",
    "os.path.abspath(__name__)\n",
    "root_dir = os.getcwd()\n",
    "data_dir = os.path.join(root_dir,'data')\n",
    "data_dir\n",
    "if os.path.isdir(data_dir):\n",
    "    print(\"有這個目錄\")\n",
    "else:\n",
    "    print(\"沒有這個目錄\")         "
   ]
  }
 ],
 "metadata": {
  "kernelspec": {
   "display_name": "venv1",
   "language": "python",
   "name": "python3"
  },
  "language_info": {
   "codemirror_mode": {
    "name": "ipython",
    "version": 3
   },
   "file_extension": ".py",
   "mimetype": "text/x-python",
   "name": "python",
   "nbconvert_exporter": "python",
   "pygments_lexer": "ipython3",
   "version": "3.11.10"
  }
 },
 "nbformat": 4,
 "nbformat_minor": 2
}
