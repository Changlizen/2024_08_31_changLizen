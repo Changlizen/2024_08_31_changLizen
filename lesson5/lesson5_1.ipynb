{
 "cells": [
  {
   "cell_type": "code",
   "execution_count": 1,
   "metadata": {},
   "outputs": [
    {
     "name": "stdout",
     "output_type": "stream",
     "text": [
      "輸入錯誤: invalid literal for int() with base 10: ''\n",
      "應用程式結束\n"
     ]
    }
   ],
   "source": [
    "#https://depart.femh.org.tw/dietary/3OPD/BMI.htm\n",
    "try:\n",
    "        weight_kg = int(input(\"請輸入體重（公斤）：\"))\n",
    "        height_cm = int(input(\"請輸入身高（公分）：\"))\n",
    "        \n",
    "        # 將身高從公分轉換為米\n",
    "        height_m = height_cm / 100\n",
    "        \n",
    "        # 計算 BMI\n",
    "        bmi = weight_kg/(height_m*height_m)\n",
    "        \n",
    "        print(f\"您的 BMI 值為: {bmi:.2f}\")\n",
    "\n",
    "        # BMI 分類\n",
    "        if bmi < 18.5:\n",
    "            print(\"您的體重過輕，應適時補充所需能量\")\n",
    "        elif 18.5 <= bmi < 24:\n",
    "            print(\"您的正常體重，請持續保持\")\n",
    "        elif 24 <= bmi < 27:\n",
    "            print(\"您的體重過重，有空請多維持運動\")\n",
    "        elif 27 <= bmi < 30:\n",
    "            print(\"您的體重屬於輕度肥胖，請多維持運動\")\n",
    "        elif 30 <= bmi < 35:\n",
    "            print(\"您的體重屬於中度肥胖，請增加運動量\")\n",
    "        elif bmi > 35:\n",
    "            print(\"您的體重屬於重度肥胖，請持續維持運動\")         \n",
    "    \n",
    "except ValueError as e:\n",
    "        print(f\"輸入錯誤: {e}\")\n",
    "\n",
    "print(\"應用程式結束\")"
   ]
  }
 ],
 "metadata": {
  "kernelspec": {
   "display_name": "nanv1",
   "language": "python",
   "name": "python3"
  },
  "language_info": {
   "codemirror_mode": {
    "name": "ipython",
    "version": 3
   },
   "file_extension": ".py",
   "mimetype": "text/x-python",
   "name": "python",
   "nbconvert_exporter": "python",
   "pygments_lexer": "ipython3",
   "version": "3.11.9"
  }
 },
 "nbformat": 4,
 "nbformat_minor": 2
}
