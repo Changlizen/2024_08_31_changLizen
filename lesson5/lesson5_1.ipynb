{
 "cells": [
  {
   "cell_type": "code",
   "execution_count": 4,
   "metadata": {},
   "outputs": [
    {
     "name": "stdout",
     "output_type": "stream",
     "text": [
      "您的 BMI 值為: 24.69\n",
      "您的體重過重，有空請多維持運動\n",
      "應用程式結束\n"
     ]
    }
   ],
   "source": [
    "#https://depart.femh.org.tw/dietary/3OPD/BMI.htm\n",
    "try:\n",
    "        weight_kg = int(input(\"請輸入體重（公斤）：\"))\n",
    "        height_cm = int(input(\"請輸入身高（公分）：\"))\n",
    "        \n",
    "        # 將身高從公分轉換為米\n",
    "        height_m = height_cm / 100\n",
    "        \n",
    "        # 計算 BMI\n",
    "        bmi = weight_kg/(height_m*height_m)\n",
    "        \n",
    "        print(f\"您的 BMI 值為: {bmi:.2f}\")\n",
    "\n",
    "        # BMI 分類\n",
    "        if bmi < 18.5:\n",
    "            print(\"您的體重過輕，應適時補充所需能量\")\n",
    "        elif 18.5 <= bmi < 24:\n",
    "            print(\"您的正常體重，請持續保持\")\n",
    "        elif 24 <= bmi < 27:\n",
    "            print(\"您的體重過重，有空請多維持運動\")\n",
    "        elif 27 <= bmi < 30:\n",
    "            print(\"您的體重屬於輕度肥胖，請多維持運動\")\n",
    "        elif 30 <= bmi < 35:\n",
    "            print(\"您的體重屬於中度肥胖，請增加運動量\")\n",
    "        elif bmi > 35:\n",
    "            print(\"您的體重屬於重度肥胖，請持續維持運動\")         \n",
    "    \n",
    "except ValueError as e:\n",
    "        print(f\"輸入錯誤: {e}\")\n",
    "\n",
    "print(\"應用程式結束\")"
   ]
  },
  {
   "cell_type": "code",
   "execution_count": 10,
   "metadata": {},
   "outputs": [
    {
     "data": {
      "text/plain": [
       "5050"
      ]
     },
     "execution_count": 10,
     "metadata": {},
     "output_type": "execute_result"
    }
   ],
   "source": [
    "total = 0 \n",
    "for i in range(1,101):\n",
    "  total += i\n",
    "\n",
    "total"
   ]
  },
  {
   "cell_type": "code",
   "execution_count": 13,
   "metadata": {},
   "outputs": [
    {
     "name": "stdout",
     "output_type": "stream",
     "text": [
      "10\n",
      "20\n",
      "30\n",
      "40\n",
      "50\n",
      "60\n",
      "70\n",
      "80\n",
      "90\n",
      "100\n"
     ]
    }
   ],
   "source": [
    "for i in range(10,101,10):\n",
    "    print(i)"
   ]
  },
  {
   "cell_type": "code",
   "execution_count": 14,
   "metadata": {},
   "outputs": [
    {
     "name": "stdout",
     "output_type": "stream",
     "text": [
      "r\n",
      "o\n",
      "b\n",
      "e\n",
      "r\n",
      "t\n"
     ]
    }
   ],
   "source": [
    "for i in 'robert':\n",
    "    print(i)"
   ]
  },
  {
   "cell_type": "code",
   "execution_count": 2,
   "metadata": {},
   "outputs": [
    {
     "name": "stdout",
     "output_type": "stream",
     "text": [
      "身高=180,體重=80\n",
      "BMI=24.691358024691358\n",
      "過重\n",
      "身高=180,體重=80\n",
      "BMI=24.691358024691358\n",
      "過重\n",
      "程式結束\n"
     ]
    }
   ],
   "source": [
    "while True:\n",
    "    kg=0  #清除變數\n",
    "    cm=0  #清除變數\n",
    "    try:    \n",
    "        cm = int(input(\"請輸入身高(公分):\"))\n",
    "        if cm > 300:\n",
    "                raise Exception(\"超過300公分\")\n",
    "    except ValueError:\n",
    "        print('輸入格式錯誤')\n",
    "        continue\n",
    "    except Exception as e:\n",
    "        print(f'輸入錯誤{cm}')\n",
    "        continue\n",
    "\n",
    "    try:    \n",
    "        kg = int(input(\"請輸入體重(公斤):\"))\n",
    "        if kg > 300:\n",
    "            raise Exception(\"超過300公分\")\n",
    "    except ValueError:\n",
    "        print('輸入格式錯誤')\n",
    "        continue\n",
    "    except Exception as e:\n",
    "        print(f'輸入錯誤{kg}')\n",
    "        continue\n",
    "\n",
    "    print(f'身高={cm},體重={kg}')\n",
    "    cm=(cm/100)*(cm/100)\n",
    "    BMI=kg/cm\n",
    "    print(f'BMI={BMI}')\n",
    "    if BMI >=35:\n",
    "        print(\"重度肥胖：BMI≧35\")\n",
    "    elif BMI >=30:\n",
    "        print(\"中度肥胖：30≦BMI\")\n",
    "    elif BMI >=27:\n",
    "        print(\"輕度肥胖：27≦BMI\")\n",
    "    elif BMI >=24:\n",
    "        print(\"過重\")\n",
    "    elif BMI >=18.5:\n",
    "        print(\"正常範圍\")\n",
    "    else:\n",
    "        print(\"體重過輕\")\n",
    "    \n",
    "    play_again = input(\"還要繼續嗎?(y,n)\")\n",
    "    if play_again == \"n\":\n",
    "        break\n",
    "print('程式結束')"
   ]
  }
 ],
 "metadata": {
  "kernelspec": {
   "display_name": "nanv1",
   "language": "python",
   "name": "python3"
  },
  "language_info": {
   "codemirror_mode": {
    "name": "ipython",
    "version": 3
   },
   "file_extension": ".py",
   "mimetype": "text/x-python",
   "name": "python",
   "nbconvert_exporter": "python",
   "pygments_lexer": "ipython3",
   "version": "3.11.9"
  }
 },
 "nbformat": 4,
 "nbformat_minor": 2
}
